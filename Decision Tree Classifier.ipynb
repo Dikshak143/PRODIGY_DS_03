{
 "cells": [
  {
   "cell_type": "code",
   "execution_count": 11,
   "id": "144b6fc5",
   "metadata": {},
   "outputs": [],
   "source": [
    "import pandas as pd\n",
    "import matplotlib.pyplot as plt\n",
    "from sklearn.model_selection import train_test_split\n",
    "from sklearn.tree import DecisionTreeClassifier, plot_tree\n",
    "from sklearn.metrics import accuracy_score\n",
    "\n",
    "# Load the dataset\n",
    "data = pd.read_csv(r\"C:\\Users\\Diksha\\OneDrive\\Desktop\\Bank Data.csv\")\n",
    "\n",
    "# Preprocess the data\n",
    "X = data.drop('default', axis=1)\n",
    "y = data['default']\n",
    "X = pd.get_dummies(X)\n",
    "X_train, X_test, y_train, y_test = train_test_split(X, y, test_size=0.2, random_state=42)\n",
    "\n",
    "# Create the classifier\n",
    "clf = DecisionTreeClassifier()\n",
    "\n",
    "# Train the classifier\n",
    "clf.fit(X_train, y_train)\n",
    "\n",
    "# Make predictions\n",
    "y_pred = clf.predict(X_test)\n",
    "\n",
    "# Calculate accuracy\n",
    "accuracy = accuracy_score(y_test, y_pred)\n",
    "print(\"Accuracy:\", accuracy)"
   ]
  },
  {
   "cell_type": "code",
   "execution_count": 12,
   "id": "20d58f00",
   "metadata": {},
   "outputs": [],
   "source": [
    "# Visualize the decision tree\n",
    "plt.figure(figsize=(10, 8))\n",
    "plot_tree(clf, feature_names=X.columns, class_names=['no', 'yes'], filled=True)\n",
    "plt.show()"
   ]
  },
  {
   "cell_type": "code",
   "execution_count": 15,
   "id": "2845318a",
   "metadata": {},
   "outputs": [],
   "source": [
    "# Create the classifier with pruning enabled\n",
    "clf = DecisionTreeClassifier(ccp_alpha=0.01)\n",
    "\n",
    "# Train the classifier\n",
    "clf.fit(X_train, y_train)\n",
    "\n",
    "# Make predictions\n",
    "y_pred = clf.predict(X_test)\n",
    "\n",
    "# Calculate accuracy\n",
    "accuracy = accuracy_score(y_test, y_pred)\n",
    "print(\"Accuracy:\", accuracy)"
   ]
  },
  {
   "cell_type": "code",
   "execution_count": 16,
   "id": "f0bf1774",
   "metadata": {},
   "outputs": [],
   "source": [
    "# Visualize the pruned decision tree\n",
    "plt.figure(figsize=(10, 8))\n",
    "plot_tree(clf, feature_names=X.columns, class_names=['no', 'yes'], filled=True)\n",
    "plt.sh"
   ]
  },
  {
   "cell_type": "code",
   "execution_count": null,
   "id": "e04e090e",
   "metadata": {},
   "outputs": [],
   "source": []
  }
 ],
 "metadata": {
  "kernelspec": {
   "display_name": "Python 3 (ipykernel)",
   "language": "python",
   "name": "python3"
  },
  "language_info": {
   "codemirror_mode": {
    "name": "ipython",
    "version": 3
   },
   "file_extension": ".py",
   "mimetype": "text/x-python",
   "name": "python",
   "nbconvert_exporter": "python",
   "pygments_lexer": "ipython3",
   "version": "3.11.4"
  }
 },
 "nbformat": 4,
 "nbformat_minor": 5
}
